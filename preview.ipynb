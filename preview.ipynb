{
 "cells": [
  {
   "cell_type": "markdown",
   "id": "47f8c3b2",
   "metadata": {},
   "source": [
    "# preview"
   ]
  },
  {
   "cell_type": "code",
   "execution_count": null,
   "id": "d613ef39",
   "metadata": {},
   "outputs": [],
   "source": [
    "from src.soccer_viz import DefaultTheme, Pitch, PitchMarkings"
   ]
  },
  {
   "cell_type": "code",
   "execution_count": null,
   "id": "3725722d",
   "metadata": {},
   "outputs": [],
   "source": [
    "theme = DefaultTheme(\"light\")\n",
    "pitch = Pitch(theme=theme)\n",
    "\n",
    "pitch.add_point(x=10, y=35, text=\"Raya\", number=1, color=pitch.theme.home_team)\n",
    "pitch.add_point(\n",
    "    x=50, y=30, text=\"Rice\", number=41, color=pitch.theme.home_team\n",
    ")\n",
    "pitch.add_point(x=55, y=28, text=\"Enzo\", number=8, color=pitch.theme.away_team)\n",
    "pitch.add_line(\n",
    "    start_x=40, start_y=10, end_x=49, end_y=28.5, dash=\"dash\", opacity=0.8\n",
    ")\n",
    "pitch.add_annotation(start_x=11, start_y=35, end_x=49, end_y=30, width=2)\n",
    "\n",
    "pitch.add_point(\n",
    "    x=80, y=20, text=\"Odegaard\", number=8, color=pitch.theme.home_team\n",
    ")\n",
    "pitch.add_annotation(start_x=50, start_y=30, end_x=70, end_y=30, width=1)\n",
    "pitch.add_line(\n",
    "    start_x=70, start_y=30, end_x=80, end_y=21, dash=\"dash\", opacity=0.8\n",
    ")\n",
    "\n",
    "pitch.add_point(x=90, y=5, text=\"Saka\", number=7, color=pitch.theme.home_team)\n",
    "pitch.add_annotation(start_x=80, start_y=19, end_x=100, end_y=6, width=2)\n",
    "pitch.add_line(\n",
    "    start_x=91, start_y=5, end_x=100, end_y=6, dash=\"dash\", opacity=0.8\n",
    ")\n",
    "\n",
    "pitch.add_point(\n",
    "    x=90, y=40, text=\"Havertz\", number=29, color=pitch.theme.home_team\n",
    ")\n",
    "pitch.add_annotation(start_x=100, start_y=6, end_x=90, end_y=39, width=3)\n",
    "right_goal = pitch._pitch_coordinates.right_goal()\n",
    "pitch.add_triangle(\n",
    "    a_x=90,\n",
    "    a_y=40,\n",
    "    b_x=right_goal[\"x0\"],\n",
    "    b_y=right_goal[\"y0\"],\n",
    "    c_x=right_goal[\"x0\"],\n",
    "    c_y=right_goal[\"y1\"],\n",
    "    opacity=0.3,\n",
    ")\n",
    "pitch.add_gradient_line(\n",
    "    start_x=91,\n",
    "    start_y=39,\n",
    "    end_x=108,\n",
    "    end_y=20,\n",
    "    width_start=4,\n",
    "    width_end=1,\n",
    "    opacity_start=1,\n",
    "    opacity_end=0.1,\n",
    ")\n",
    "\n",
    "pitch.add_point(\n",
    "    x=102, y=37, text=\"Sanchez\", number=1, color=pitch.theme.away_team\n",
    ")\n",
    "pitch.add_point(\n",
    "    x=92, y=30, text=\"Caicedo\", number=25, color=pitch.theme.away_team\n",
    ")\n",
    "\n",
    "pitch.show()"
   ]
  },
  {
   "cell_type": "code",
   "execution_count": null,
   "id": "2718859e",
   "metadata": {},
   "outputs": [],
   "source": [
    "# StatsBomb coordinates\n",
    "markings = PitchMarkings(\n",
    "    length=120,\n",
    "    width=80,\n",
    "    use_standard=True,\n",
    "    center_circle_radius=10,\n",
    "    penalty_area_length=18,\n",
    "    penalty_mark_distance=12,\n",
    "    goal_area_length=6,\n",
    "    goal_width=8,\n",
    "    goal_height=2.67,\n",
    ")\n",
    "pitch = Pitch(markings=markings, length_range=(0, 120), width_range=(80, 0))\n",
    "pitch.add_point(x=10, y=30, text='Saka')\n",
    "pitch.show()"
   ]
  },
  {
   "cell_type": "code",
   "execution_count": null,
   "id": "d0854a6b",
   "metadata": {},
   "outputs": [],
   "source": [
    "pitch = Pitch(vertical=True)\n",
    "pitch.add_point(x=30, y=10, text='Saka')\n",
    "pitch.show()"
   ]
  },
  {
   "cell_type": "code",
   "execution_count": null,
   "id": "8e5d3c88",
   "metadata": {},
   "outputs": [],
   "source": [
    "pitch = Pitch(length_range=(105, 0), width_range=(68, 0))\n",
    "pitch.add_point(x=90, y=30, text='Saka')\n",
    "pitch.show()"
   ]
  },
  {
   "cell_type": "code",
   "execution_count": null,
   "id": "73e50d3a",
   "metadata": {},
   "outputs": [],
   "source": [
    "pitch = Pitch(\n",
    "    length_range=(-52.5, 52.5),\n",
    "    width_range=(-34, 34),\n",
    ")\n",
    "pitch.add_point(x=30, y=30, text=\"Saka\")\n",
    "pitch.show()"
   ]
  },
  {
   "cell_type": "code",
   "execution_count": null,
   "id": "c216d483",
   "metadata": {},
   "outputs": [],
   "source": [
    "pitch = Pitch(length_range=(-52.5, 52.5), width_range=(-34, 34), vertical=True)\n",
    "pitch.add_point(x=30, y=30, text=\"Saka\")\n",
    "pitch.show()"
   ]
  },
  {
   "cell_type": "code",
   "execution_count": null,
   "id": "bae477a5",
   "metadata": {},
   "outputs": [],
   "source": [
    "pitch = Pitch(length_range=(0, 200), width_range=(0, 100))\n",
    "\n",
    "pitch.add_point(\n",
    "    x=min(pitch.xaxis_range), y=min(pitch.yaxis_range), opacity=0.5\n",
    ")\n",
    "pitch.add_point(\n",
    "    x=max(pitch.xaxis_range), y=max(pitch.yaxis_range), opacity=0.5\n",
    ")\n",
    "pitch.add_point(\n",
    "    x=max(pitch.xaxis_range), y=min(pitch.yaxis_range), opacity=0.5\n",
    ")\n",
    "pitch.add_point(\n",
    "    x=min(pitch.xaxis_range), y=max(pitch.yaxis_range), opacity=0.5\n",
    ")\n",
    "pitch.show()"
   ]
  },
  {
   "cell_type": "markdown",
   "id": "d1b15cab",
   "metadata": {},
   "source": [
    "## plot shot"
   ]
  },
  {
   "cell_type": "code",
   "execution_count": null,
   "id": "e3f29616",
   "metadata": {},
   "outputs": [],
   "source": [
    "# Setting up some data\n",
    "shot = {\n",
    "    'name': 'Saka',\n",
    "    'start_x': 90,\n",
    "    'start_y': 30,\n",
    "    'end_x': 105,\n",
    "    'end_y': 35,\n",
    "    \"end_z\": 1.5,\n",
    "}\n",
    "assist = {\n",
    "    'name': 'Rice',\n",
    "    'start_x': 60,\n",
    "    'start_y': 50,\n",
    "    'end_x': 90,\n",
    "    'end_y': 30,\n",
    "}"
   ]
  },
  {
   "cell_type": "code",
   "execution_count": null,
   "id": "fd467303",
   "metadata": {},
   "outputs": [],
   "source": [
    "pitch = Pitch()\n",
    "pitch.add_point(x=shot[\"start_x\"], y=shot[\"start_y\"], text=shot[\"name\"])\n",
    "pitch.add_line(\n",
    "    start_x=shot[\"start_x\"],\n",
    "    start_y=shot[\"start_y\"],\n",
    "    end_x=shot[\"end_x\"] + shot[\"end_z\"],\n",
    "    end_y=shot[\"end_y\"],\n",
    ")\n",
    "pitch.add_point(x=assist[\"start_x\"], y=assist[\"start_y\"], text=assist[\"name\"])\n",
    "pitch.add_line(\n",
    "    start_x=assist[\"start_x\"],\n",
    "    start_y=assist[\"start_y\"],\n",
    "    end_x=assist[\"end_x\"],\n",
    "    end_y=assist[\"end_y\"],\n",
    ")\n",
    "pitch.show()"
   ]
  },
  {
   "cell_type": "markdown",
   "id": "bac222a8",
   "metadata": {},
   "source": [
    "## plot half"
   ]
  },
  {
   "cell_type": "code",
   "execution_count": null,
   "id": "86de0e90",
   "metadata": {},
   "outputs": [],
   "source": [
    "pitch = Pitch(\n",
    "    side=\"right\",\n",
    "    vertical=True,\n",
    ")\n",
    "pitch.add_point(x=30, y=90, text='Saka')\n",
    "pitch.show()"
   ]
  },
  {
   "cell_type": "markdown",
   "id": "ce88cac1",
   "metadata": {},
   "source": [
    "## plot 1 * 1"
   ]
  },
  {
   "cell_type": "code",
   "execution_count": null,
   "id": "6d8e92a6",
   "metadata": {},
   "outputs": [],
   "source": [
    "pitch = Pitch(length_range=(0, 1), width_range=(0, 1))\n",
    "pitch.add_point(x=0.8, y=0.7, text='Saka')\n",
    "pitch.add_point(x=0.1, y=0.4, text='Raya', size=20, number=1)\n",
    "pitch.show()"
   ]
  },
  {
   "cell_type": "code",
   "execution_count": null,
   "id": "6f39706a",
   "metadata": {},
   "outputs": [],
   "source": []
  }
 ],
 "metadata": {
  "kernelspec": {
   "display_name": "soccer-viz",
   "language": "python",
   "name": "python3"
  },
  "language_info": {
   "codemirror_mode": {
    "name": "ipython",
    "version": 3
   },
   "file_extension": ".py",
   "mimetype": "text/x-python",
   "name": "python",
   "nbconvert_exporter": "python",
   "pygments_lexer": "ipython3",
   "version": "3.13.2"
  }
 },
 "nbformat": 4,
 "nbformat_minor": 5
}

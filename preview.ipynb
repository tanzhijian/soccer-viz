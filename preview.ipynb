{
 "cells": [
  {
   "cell_type": "markdown",
   "id": "47f8c3b2",
   "metadata": {},
   "source": [
    "# preview"
   ]
  },
  {
   "cell_type": "code",
   "execution_count": null,
   "id": "d613ef39",
   "metadata": {},
   "outputs": [],
   "source": [
    "from src.soccer_viz import Pitch, PitchCoordinates"
   ]
  },
  {
   "cell_type": "code",
   "execution_count": null,
   "id": "3725722d",
   "metadata": {},
   "outputs": [],
   "source": [
    "pitch = Pitch()\n",
    "\n",
    "pitch.add_point({'x': 90, 'y': 30}, text='Saka')\n",
    "pitch.add_line(start={'x': 90, 'y': 30}, end={'x': 105, 'y': 50})\n",
    "pitch.add_point({'x': 60, 'y': 50}, text='Rice')\n",
    "pitch.add_point({'x': 95, 'y': 32}, text='Rodri', color='blue')\n",
    "pitch.show()"
   ]
  },
  {
   "cell_type": "code",
   "execution_count": null,
   "id": "2718859e",
   "metadata": {},
   "outputs": [],
   "source": [
    "# StatsBomb coordinates\n",
    "coordinates = PitchCoordinates(\n",
    "    120,\n",
    "    80,\n",
    "    width_direction='down',\n",
    "    center_circle_radius=10,\n",
    "    penalty_area_length=18,\n",
    "    penalty_mark_distance=12,\n",
    "    goal_area_length=6,\n",
    "    goal_width=8,\n",
    "    goal_height=2.67,\n",
    ")\n",
    "pitch = Pitch(coordinates=coordinates)\n",
    "pitch.add_point({'x': 10, 'y': 30}, text='Saka')\n",
    "pitch.show()"
   ]
  },
  {
   "cell_type": "code",
   "execution_count": null,
   "id": "d0854a6b",
   "metadata": {},
   "outputs": [],
   "source": [
    "coordinates = PitchCoordinates(vertical=True)\n",
    "pitch = Pitch(coordinates=coordinates)\n",
    "pitch.add_point({'x': 30, 'y': 10}, text='Saka')\n",
    "pitch.show()"
   ]
  },
  {
   "cell_type": "code",
   "execution_count": null,
   "id": "8e5d3c88",
   "metadata": {},
   "outputs": [],
   "source": []
  }
 ],
 "metadata": {
  "kernelspec": {
   "display_name": ".venv",
   "language": "python",
   "name": "python3"
  },
  "language_info": {
   "codemirror_mode": {
    "name": "ipython",
    "version": 3
   },
   "file_extension": ".py",
   "mimetype": "text/x-python",
   "name": "python",
   "nbconvert_exporter": "python",
   "pygments_lexer": "ipython3",
   "version": "3.13.2"
  }
 },
 "nbformat": 4,
 "nbformat_minor": 5
}

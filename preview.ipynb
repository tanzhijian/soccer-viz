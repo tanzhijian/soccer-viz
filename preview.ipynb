{
 "cells": [
  {
   "cell_type": "markdown",
   "id": "47f8c3b2",
   "metadata": {},
   "source": [
    "# preview"
   ]
  },
  {
   "cell_type": "code",
   "execution_count": null,
   "id": "d613ef39",
   "metadata": {},
   "outputs": [],
   "source": [
    "from src.soccer_viz._visualization import Pitch"
   ]
  },
  {
   "cell_type": "code",
   "execution_count": null,
   "id": "3725722d",
   "metadata": {},
   "outputs": [],
   "source": [
    "pitch = Pitch()\n",
    "\n",
    "pitch.add_point({'x': 90, 'y': 30}, text='Saka')\n",
    "pitch.add_line(start={'x': 90, 'y': 30}, end={'x': 105, 'y': 50})\n",
    "pitch.add_point({'x': 60, 'y': 50}, text='Rice')\n",
    "pitch.add_point({'x': 95, 'y': 32}, text='Rodri', color='blue')\n",
    "pitch.show()"
   ]
  },
  {
   "cell_type": "code",
   "execution_count": null,
   "id": "2718859e",
   "metadata": {},
   "outputs": [],
   "source": []
  }
 ],
 "metadata": {
  "kernelspec": {
   "display_name": ".venv",
   "language": "python",
   "name": "python3"
  },
  "language_info": {
   "codemirror_mode": {
    "name": "ipython",
    "version": 3
   },
   "file_extension": ".py",
   "mimetype": "text/x-python",
   "name": "python",
   "nbconvert_exporter": "python",
   "pygments_lexer": "ipython3",
   "version": "3.13.2"
  }
 },
 "nbformat": 4,
 "nbformat_minor": 5
}
